{
 "cells": [
  {
   "cell_type": "markdown",
   "id": "f17298ec-f81a-4e7f-a951-a0b5ba33894f",
   "metadata": {},
   "source": [
    "# Create clonemap and extent shapefile for PCR-GLOBWB\n",
    "### contact: j.p.m.aerts@tudelft.nl"
   ]
  },
  {
   "cell_type": "code",
   "execution_count": 1,
   "id": "4b70faaa-3ff2-4560-999c-090cfb772f96",
   "metadata": {
    "tags": []
   },
   "outputs": [
    {
     "name": "stderr",
     "output_type": "stream",
     "text": [
      "/gpfs/home6/jaerts/mambaforge/envs/wflow_state_flux/lib/python3.10/site-packages/geopandas/_compat.py:111: UserWarning: The Shapely GEOS version (3.11.0-CAPI-1.17.0) is incompatible with the GEOS version PyGEOS was compiled with (3.10.1-CAPI-1.16.0). Conversions between both will be slow.\n",
      "  warnings.warn(\n"
     ]
    }
   ],
   "source": [
    "import subprocess\n",
    "import geopandas as gpd\n",
    "import pandas as pd\n",
    "\n",
    "from shapely.geometry import Polygon\n",
    "from glob import glob\n",
    "from pathlib import Path"
   ]
  },
  {
   "cell_type": "markdown",
   "id": "45a7c68c-072d-4a41-85dd-6463384894f3",
   "metadata": {},
   "source": [
    "## Set Paths"
   ]
  },
  {
   "cell_type": "code",
   "execution_count": 2,
   "id": "a6e20401-c995-42f0-b7da-2bd5e964c865",
   "metadata": {},
   "outputs": [],
   "source": [
    "ROOT = Path('/home/jaerts/banafsheh/salt_lake_pcr-globwb/')\n",
    "MODELDATA = Path('/gpfs/work1/0/wtrcycle/users/jaerts/pcrglobwb2_input/')"
   ]
  },
  {
   "cell_type": "markdown",
   "id": "c2050b03-ee5b-4c2b-a279-fe992537d676",
   "metadata": {},
   "source": [
    "## Set Config"
   ]
  },
  {
   "cell_type": "code",
   "execution_count": 3,
   "id": "dfa01d6d-621a-4ec1-938a-b16d69df9fc6",
   "metadata": {},
   "outputs": [],
   "source": [
    "lonmin = -121\n",
    "latmin = 34\n",
    "lonmax = -110\n",
    "latmax = 45"
   ]
  },
  {
   "cell_type": "code",
   "execution_count": 4,
   "id": "ac84c81e-8824-4ff3-8acf-b439f26434a3",
   "metadata": {},
   "outputs": [],
   "source": [
    "def create_clonemap(lonmin,latmin,lonmax,latmax):\n",
    "    global_clonemap = f\"{MODELDATA}/global_05min/cloneMaps/clone_global_05min.map\"\n",
    "    output_clonemap = f\"{MODELDATA}/global_05min/cloneMaps/salt_lake_05min_clone.map\"\n",
    "    \n",
    "    subprocess.call(\n",
    "        f\"gdal_translate -of PCRaster {global_clonemap} -projwin \"\n",
    "        f\"{lonmin} {latmax} {lonmax} {latmin} {output_clonemap}\",\n",
    "        shell=True,\n",
    "    )\n",
    "\n",
    "    return print(f'finished: {output_clonemap}')"
   ]
  },
  {
   "cell_type": "code",
   "execution_count": 5,
   "id": "fc15267f-c0cd-4c45-bbda-c37d68e28400",
   "metadata": {},
   "outputs": [
    {
     "name": "stdout",
     "output_type": "stream",
     "text": [
      "Input file size is 4320, 2160\n",
      "0...10...20...30...40...50...60...70...80...90...100 - done.\n",
      "finished: /gpfs/work1/0/wtrcycle/users/jaerts/pcrglobwb2_input/global_05min/cloneMaps/salt_lake_05min_clone.map\n"
     ]
    }
   ],
   "source": [
    "create_clonemap(lonmin,latmin,lonmax,latmax)"
   ]
  },
  {
   "cell_type": "code",
   "execution_count": 6,
   "id": "53698b5f-d71e-4a88-9b87-f7c220f38af5",
   "metadata": {},
   "outputs": [
    {
     "name": "stderr",
     "output_type": "stream",
     "text": [
      "/gpfs/home6/jaerts/mambaforge/envs/wflow_state_flux/lib/python3.10/site-packages/pyproj/crs/crs.py:130: FutureWarning: '+init=<authority>:<code>' syntax is deprecated. '<authority>:<code>' is the preferred initialization method. When making the change, be mindful of axis order changes: https://pyproj4.github.io/pyproj/stable/gotchas.html#axis-order-changes-in-proj-6\n",
      "  in_crs_string = _prepare_from_proj_string(in_crs_string)\n",
      "/gpfs/home6/jaerts/mambaforge/envs/wflow_state_flux/lib/python3.10/site-packages/geopandas/io/file.py:362: FutureWarning: pandas.Int64Index is deprecated and will be removed from pandas in a future version. Use pandas.Index with the appropriate dtype instead.\n",
      "  pd.Int64Index,\n"
     ]
    }
   ],
   "source": [
    "def bbox(long0, lat0, lat1, long1):\n",
    "    return Polygon([[long0, lat0],\n",
    "                    [long1,lat0],\n",
    "                    [long1,lat1],\n",
    "                    [long0, lat1]])\n",
    "\n",
    "extent = bbox(lonmin, latmin, latmax, lonmax)\n",
    "\n",
    "gpd.GeoDataFrame(pd.DataFrame(['p1'], columns = ['geom']),\n",
    "                 crs = {'init':'epsg:4326'},\n",
    "                 geometry = [extent]).to_file(f'{ROOT}/salt_lake.shp')"
   ]
  }
 ],
 "metadata": {
  "kernelspec": {
   "display_name": "Python 3 (ipykernel)",
   "language": "python",
   "name": "python3"
  },
  "language_info": {
   "codemirror_mode": {
    "name": "ipython",
    "version": 3
   },
   "file_extension": ".py",
   "mimetype": "text/x-python",
   "name": "python",
   "nbconvert_exporter": "python",
   "pygments_lexer": "ipython3",
   "version": "3.10.4"
  }
 },
 "nbformat": 4,
 "nbformat_minor": 5
}

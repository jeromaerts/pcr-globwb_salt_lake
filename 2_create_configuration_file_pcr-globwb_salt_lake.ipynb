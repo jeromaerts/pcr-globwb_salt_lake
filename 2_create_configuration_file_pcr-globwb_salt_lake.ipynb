{
 "cells": [
  {
   "cell_type": "markdown",
   "id": "c2f55dac-59b7-4534-9af9-b16ae615a4e9",
   "metadata": {},
   "source": [
    "# Create configuration file for PCR-GLOBWB\n",
    "### contact: j.p.m.aerts@tudelft.nl"
   ]
  },
  {
   "cell_type": "code",
   "execution_count": 1,
   "id": "f2bdbeb8-957d-483b-833f-72b99ea3b717",
   "metadata": {},
   "outputs": [],
   "source": [
    "from glob import glob\n",
    "from pathlib import Path\n",
    "\n",
    "from configparser import ConfigParser"
   ]
  },
  {
   "cell_type": "markdown",
   "id": "a0ed6cda-cfaf-4437-892e-716ea5480ffc",
   "metadata": {},
   "source": [
    "## Set Paths"
   ]
  },
  {
   "cell_type": "code",
   "execution_count": 2,
   "id": "ab2841a4-4e55-494b-aaad-593c88517b7f",
   "metadata": {},
   "outputs": [],
   "source": [
    "ROOT = Path('/home/jaerts/banafsheh/salt_lake_pcr-globwb/')\n",
    "MODELDATA = Path('/gpfs/work1/0/wtrcycle/users/jaerts/pcrglobwb2_input/')"
   ]
  },
  {
   "cell_type": "markdown",
   "id": "a0b1c30d-47bf-47e8-89f3-cda42f556cda",
   "metadata": {},
   "source": [
    "## Set Config"
   ]
  },
  {
   "cell_type": "code",
   "execution_count": 3,
   "id": "b214d0b4-210c-49b5-b724-47039f7a84c2",
   "metadata": {},
   "outputs": [],
   "source": [
    "template_ini = f'{MODELDATA}/global_05min/iniFileExample/setup_05min_non-natural.ini'"
   ]
  },
  {
   "cell_type": "markdown",
   "id": "1055decf-52fd-41e1-a95d-2a00c37f7c22",
   "metadata": {},
   "source": [
    "## Modify ini file"
   ]
  },
  {
   "cell_type": "code",
   "execution_count": 4,
   "id": "6de1eaf0-9f2f-4fac-afed-6f3fdaed7aaa",
   "metadata": {},
   "outputs": [
    {
     "data": {
      "text/plain": [
       "['/gpfs/work1/0/wtrcycle/users/jaerts/pcrglobwb2_input/global_05min/iniFileExample/setup_05min_non-natural.ini']"
      ]
     },
     "execution_count": 4,
     "metadata": {},
     "output_type": "execute_result"
    }
   ],
   "source": [
    "# Load config parser\n",
    "config = ConfigParser()\n",
    "config.optionxform = str\n",
    "\n",
    "# Load config file\n",
    "config.read(template_ini)"
   ]
  },
  {
   "cell_type": "code",
   "execution_count": 5,
   "id": "74df198a-c933-4d5d-9575-7755784faa6e",
   "metadata": {},
   "outputs": [],
   "source": [
    "# Set Global Options\n",
    "config['globalOptions']['inputDir'] = f'/data/input'\n",
    "config['globalOptions']['outputDir'] = f'/data/output'\n",
    "config['globalOptions']['cloneMap'] = f'global_05min/cloneMaps/salt_lake_05min_clone.map'\n",
    "config['globalOptions']['landmask'] = f'global_05min/cloneMaps/salt_lake_05min_clone.map'\n",
    "config['globalOptions']['maxSpinUpsInYears'] = '30'\n",
    "\n",
    "# Set Meteo Options \n",
    "config['meteoOptions']['precipitationNC'] = f'global_05min/meteo/pcrglobwb_OBS6_ERA5_reanaly_1_day_pr_2002-2017_salt_lake'\n",
    "config['meteoOptions']['temperatureNC']   = f'global_05min/meteo/pcrglobwb_OBS6_ERA5_reanaly_1_day_tas_2002-2017_salt_lake'\n",
    "config['meteoOptions']['precipitationVariableName']  = 'pr'\n",
    "config['meteoOptions']['temperatureVariableName']    = 'tas'\n",
    "\n",
    "config['meteoOptions']['referenceETPotMethod']  = f'Hamon'\n",
    "config['meteoOptions']['refETPotFileNC']  = f'None'\n",
    "\n",
    "# Downscaling options\n",
    "config['meteoDownscalingOptions']['downscalePrecipitation'] = 'True'\n",
    "config['meteoDownscalingOptions']['downscaleTemperature'] = 'True' \n",
    "config['meteoDownscalingOptions']['downscaleReferenceETPot'] = 'True'\n",
    "\n",
    "# Set conversion constants\n",
    "config['meteoOptions']['precipitationConstant'] = '0.0'\n",
    "config['meteoOptions']['precipitationFactor']   = '1.0'\n",
    "config['meteoOptions']['temperatureConstant']   = '-273.15'\n",
    "config['meteoOptions']['temperatureFactor']     = '1.0'\n",
    "config['meteoOptions']['referenceEPotConstant'] = '0.0'\n",
    "config['meteoOptions']['referenceEPotFactor']   = '1.0'\n",
    "\n",
    "# Set routing options\n",
    "config['routingOptions']['dynamicFloodPlain'] = 'False'"
   ]
  },
  {
   "cell_type": "code",
   "execution_count": 6,
   "id": "8a417c61-3065-4f2f-be3e-d846cbeef59f",
   "metadata": {},
   "outputs": [],
   "source": [
    "# Write output to basin directory\n",
    "outfile = f'{ROOT}/salt_lake_05min.ini'\n",
    "with open(outfile, \"w\") as configfile:\n",
    "        config.write(configfile)"
   ]
  },
  {
   "cell_type": "code",
   "execution_count": null,
   "id": "7851d039-1987-4521-8d27-db932dcb4ee5",
   "metadata": {},
   "outputs": [],
   "source": []
  }
 ],
 "metadata": {
  "kernelspec": {
   "display_name": "Python 3 (ipykernel)",
   "language": "python",
   "name": "python3"
  },
  "language_info": {
   "codemirror_mode": {
    "name": "ipython",
    "version": 3
   },
   "file_extension": ".py",
   "mimetype": "text/x-python",
   "name": "python",
   "nbconvert_exporter": "python",
   "pygments_lexer": "ipython3",
   "version": "3.10.4"
  }
 },
 "nbformat": 4,
 "nbformat_minor": 5
}

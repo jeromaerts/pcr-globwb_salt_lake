{
 "cells": [
  {
   "cell_type": "markdown",
   "id": "612aca90-0d7a-40b5-a1e6-d035de74bd25",
   "metadata": {},
   "source": [
    "# Generate forcing PCR-GLOBWB Great Salt Lake using eWaterCycle\n",
    "\n",
    "### contact: j.p.m.aerts@tudelft.nl"
   ]
  },
  {
   "cell_type": "code",
   "execution_count": 1,
   "id": "ceb07980-7bd7-4632-8d3b-75b40b465766",
   "metadata": {},
   "outputs": [
    {
     "name": "stderr",
     "output_type": "stream",
     "text": [
      "/gpfs/home6/jaerts/mambaforge/envs/wflow_state_flux/lib/python3.10/site-packages/esmvalcore/experimental/_warnings.py:13: UserWarning: \n",
      "  Thank you for trying out the new ESMValCore API.\n",
      "  Note that this API is experimental and may be subject to change.\n",
      "  More info: https://github.com/ESMValGroup/ESMValCore/issues/498\n"
     ]
    }
   ],
   "source": [
    "import shutil\n",
    "import xarray as xr\n",
    "import ewatercycle.forcing\n",
    "\n",
    "from pathlib import Path"
   ]
  },
  {
   "cell_type": "code",
   "execution_count": 2,
   "id": "e37ca59a-39b3-4847-9071-ed7fc188f674",
   "metadata": {},
   "outputs": [],
   "source": [
    "import logging\n",
    "import warnings\n",
    "\n",
    "warnings.filterwarnings(\"ignore\", category=UserWarning)\n",
    "\n",
    "logger = logging.getLogger(\"esmvalcore\")\n",
    "logger.setLevel(logging.WARNING)"
   ]
  },
  {
   "cell_type": "markdown",
   "id": "05aaa90b-e8c1-4409-96aa-6ebaa00f6cc1",
   "metadata": {},
   "source": [
    "## Set Paths"
   ]
  },
  {
   "cell_type": "code",
   "execution_count": 3,
   "id": "6ac9a385-a2fd-4d5f-830b-01c4eed118d1",
   "metadata": {},
   "outputs": [],
   "source": [
    "ROOT = Path('/home/jaerts/banafsheh/salt_lake_pcr-globwb/')\n",
    "MODELDATA = Path('/gpfs/work1/0/wtrcycle/users/jaerts/pcrglobwb2_input/')"
   ]
  },
  {
   "cell_type": "markdown",
   "id": "aa69c952-8253-4b14-9ffc-852e51d78c5d",
   "metadata": {},
   "source": [
    "## Set Config"
   ]
  },
  {
   "cell_type": "code",
   "execution_count": 4,
   "id": "52a40865-8978-4644-a27d-4b694d0258f7",
   "metadata": {},
   "outputs": [],
   "source": [
    "# Period Model Run\n",
    "start_time = '2002-01-01'\n",
    "end_time = '2017-12-31'\n",
    "\n",
    "# Period Climatology\n",
    "start_time_clim = '1990-01-01'\n",
    "end_time_clim = '2001-12-31'"
   ]
  },
  {
   "cell_type": "markdown",
   "id": "9bf2a4a1-53bd-46d3-ba50-0a9695beb1a8",
   "metadata": {},
   "source": [
    "## Generate Forcing"
   ]
  },
  {
   "cell_type": "code",
   "execution_count": 5,
   "id": "e5aab77e-6b8d-4b8d-b64a-9e916679df64",
   "metadata": {},
   "outputs": [],
   "source": [
    "pcrglobwb_forcing = ewatercycle.forcing.generate(\n",
    "    target_model=\"pcrglobwb\",\n",
    "    dataset=\"ERA5\",\n",
    "    start_time=f\"{start_time}T00:00:00Z\",\n",
    "    end_time=f\"{end_time}T00:00:00Z\",\n",
    "    shape=f\"{ROOT}/salt_lake.shp\",\n",
    "    model_specific_options={\n",
    "        \"start_time_climatology\": f\"{start_time_clim}T00:00:00Z\",\n",
    "        \"end_time_climatology\": f\"{end_time_clim}T00:00:00Z\",\n",
    "    },\n",
    ")"
   ]
  },
  {
   "cell_type": "markdown",
   "id": "cafe8d54-8aeb-4ee1-98db-94c8cdd329a8",
   "metadata": {},
   "source": [
    "## Copy forcing to working directory"
   ]
  },
  {
   "cell_type": "code",
   "execution_count": 6,
   "id": "b113f123-9e15-4b81-bd6e-bb9505fa89e6",
   "metadata": {},
   "outputs": [
    {
     "data": {
      "text/plain": [
       "'/gpfs/work1/0/wtrcycle/users/jaerts/pcrglobwb2_input/global_05min/meteo//pcrglobwb_OBS6_ERA5_reanaly_1_day_tas_2002-2017_salt_lake.nc'"
      ]
     },
     "execution_count": 6,
     "metadata": {},
     "output_type": "execute_result"
    }
   ],
   "source": [
    "shutil.copy(f'{pcrglobwb_forcing.directory}/{pcrglobwb_forcing.precipitationNC}', f'{MODELDATA}/global_05min/meteo/pcrglobwb_OBS6_ERA5_reanaly_1_day_pr_2002-2017_salt_lake.nc')\n",
    "shutil.copy(f'{pcrglobwb_forcing.directory}/{pcrglobwb_forcing.temperatureNC}', f'{MODELDATA}/global_05min/meteo//pcrglobwb_OBS6_ERA5_reanaly_1_day_tas_2002-2017_salt_lake.nc')"
   ]
  }
 ],
 "metadata": {
  "kernelspec": {
   "display_name": "Python 3 (ipykernel)",
   "language": "python",
   "name": "python3"
  },
  "language_info": {
   "codemirror_mode": {
    "name": "ipython",
    "version": 3
   },
   "file_extension": ".py",
   "mimetype": "text/x-python",
   "name": "python",
   "nbconvert_exporter": "python",
   "pygments_lexer": "ipython3",
   "version": "3.10.4"
  }
 },
 "nbformat": 4,
 "nbformat_minor": 5
}
